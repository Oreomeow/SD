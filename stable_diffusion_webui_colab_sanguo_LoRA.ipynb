{
  "cells": [
    {
      "cell_type": "markdown",
      "metadata": {
        "id": "view-in-github",
        "colab_type": "text"
      },
      "source": [
        "<a href=\"https://colab.research.google.com/github/Oreomeow/SD/blob/main/stable_diffusion_webui_colab_sanguo_LoRA.ipynb\" target=\"_parent\"><img src=\"https://colab.research.google.com/assets/colab-badge.svg\" alt=\"Open In Colab\"/></a>"
      ]
    },
    {
      "cell_type": "markdown",
      "source": [
        "# 1. Setup the Stable Diffusion Web UI with guofeng models and sanguo LoRA"
      ],
      "metadata": {
        "id": "bsiZpfkU7S77"
      }
    },
    {
      "cell_type": "code",
      "execution_count": null,
      "metadata": {
        "id": "sBbcB4vwj_jm"
      },
      "outputs": [],
      "source": [
        "!pip install --upgrade fastapi==0.90.1\n",
        "!git clone https://github.com/AUTOMATIC1111/stable-diffusion-webui\n",
        "!git clone https://github.com/yfszzx/stable-diffusion-webui-images-browser /content/stable-diffusion-webui/extensions/stable-diffusion-webui-images-browser\n",
        "\n",
        "# Model(s) setup\n",
        "# Below are model code for ChilloutMix, we always could change it to your desired model\n",
        "!curl -Lo chilloutmixni.safetensors https://huggingface.co/nolanaatama/chomni/resolve/main/chomni.safetensors\n",
        "!mv \"/content/chilloutmixni.safetensors\" \"/content/stable-diffusion-webui/models/Stable-diffusion\"\n",
        "\n",
        "# Additional embeddings\n",
        "!curl -Lo ulzzang-6500.pt https://huggingface.co/nolanaatama/chomni/resolve/main/ulzzang-6500.pt\n",
        "!mv \"/content/ulzzang-6500.pt\" \"/content/stable-diffusion-webui/embeddings\"\n",
        "\n",
        "# guofeng models\n",
        "!curl -Lo 3Guofeng3_v32Light.safetensors https://civitai.com/api/download/models/17414\n",
        "!mv \"/content/3Guofeng3_v32Light.safetensors\" \"/content/stable-diffusion-webui/models/Stable-diffusion\"\n",
        "!curl -Lo guofeng3_v32.safetensors https://civitai.com/api/download/models/12378\n",
        "!mv \"/content/guofeng3_v32.safetensors\" \"/content/stable-diffusion-webui/models/Stable-diffusion\"\n",
        "\n",
        "%cd /content/stable-diffusion-webui\n",
        "!curl -Lo TheThreeKingdoms_v0999.safetensors https://civitai.com/api/download/models/24578\n",
        "!mv \"/content/stable-diffusion-webui/TheThreeKingdoms_v0999.safetensors\" \"/content/stable-diffusion-webui/models/Lora\"\n",
        "!curl -Lo TheThreeKingdoms_v099.safetensors https://civitai.com/api/download/models/17877\n",
        "!mv \"/content/stable-diffusion-webui/TheThreeKingdoms_v099.safetensors\" \"/content/stable-diffusion-webui/models/Lora\"\n",
        "!COMMANDLINE_ARGS=\"--share --disable-safe-unpickle --no-half-vae --xformers --reinstall-xformers --enable-insecure-extension-access\" REQS_FILE=\"requirements.txt\" python launch.py"
      ]
    },
    {
      "cell_type": "markdown",
      "source": [
        "## 2. Display all generated images \n",
        "所有的图片都保存在下面的路径，运行以展示"
      ],
      "metadata": {
        "id": "E9GBxSbdH1ae"
      }
    },
    {
      "cell_type": "code",
      "source": [
        "# 看看一共有多少图\n",
        "!ls /content/stable-diffusion-webui/outputs/txt2img-images/ | wc -l"
      ],
      "metadata": {
        "id": "4KJh7gAYvsvV"
      },
      "execution_count": null,
      "outputs": []
    },
    {
      "cell_type": "code",
      "source": [
        "# 显示所有图片\n",
        "import numpy as np \n",
        "import cv2 as cv\n",
        "from google.colab.patches import cv2_imshow\n",
        "import imutils\n",
        "import os\n",
        "\n",
        "# 指定目录\n",
        "directory = '/content/stable-diffusion-webui/outputs/txt2img-images/'\n",
        "\n",
        "# 获取目录中的所有文件\n",
        "files = os.listdir(directory)\n",
        "\n",
        "# 过滤出所有图片文件\n",
        "images = [f for f in files if f.endswith('.jpg') or f.endswith('.jpeg') or f.endswith('.png')]\n",
        "\n",
        "# 将每张图片合并到空白图片上\n",
        "for i, image_file in enumerate(images):\n",
        "    img = cv.imread(os.path.join(directory, image_file))\n",
        "\n",
        "    # 调整图像大小\n",
        "    img = imutils.resize(img, width=512)\n",
        "    cv2_imshow(img)"
      ],
      "metadata": {
        "id": "T9c0Rwc0BPBl"
      },
      "execution_count": null,
      "outputs": []
    },
    {
      "cell_type": "code",
      "source": [],
      "metadata": {
        "id": "P480060pDRNN"
      },
      "execution_count": null,
      "outputs": []
    }
  ],
  "metadata": {
    "accelerator": "GPU",
    "colab": {
      "provenance": [],
      "include_colab_link": true
    },
    "gpuClass": "standard",
    "kernelspec": {
      "display_name": "Python 3",
      "name": "python3"
    },
    "language_info": {
      "name": "python"
    }
  },
  "nbformat": 4,
  "nbformat_minor": 0
}